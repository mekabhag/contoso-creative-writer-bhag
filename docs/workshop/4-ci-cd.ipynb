{
 "cells": [
  {
   "cell_type": "markdown",
   "metadata": {},
   "source": [
    "\n",
    "1. **Build and Deploy:** Automatically building and deploying the latest version of the code in production.\n",
    "2. **Evaulations:** Automatically running evaulations on a test article to see how fluent, grounded, relevant and coherent the final response was."
   ]
  },
  {
   "cell_type": "markdown",
   "metadata": {},
   "source": [
    "```console\n",
    "gh auth setup-git\n",
    "```"
   ]
  },
  {
   "cell_type": "markdown",
   "metadata": {},
   "source": [
    "```console\n",
    "azd pipeline config\n",
    "```"
   ]
  },
  {
   "cell_type": "markdown",
   "metadata": {},
   "source": [
    "1. You will be asked if you want to commit and push your local changes. Choose `Y`\n",
    "    - You may be asked 'What would you like to do now?' Press enter to select `I have manually enabled GitHub Actions. Continue with pushing my changes.`\n",
    "    - You should see two links in your terminal. **Select the second link** to view your pipeline status. Where you will then see a green button. \n",
    "\n",
    "2.  Click the green button that says **understand my workflows go ahead and enable them.** and return to the terminal after clicking the button. \n",
    "\n",
    "3. **Rerun** the **azd pipeline config** command. \n",
    "    - Select the second link again. \n",
    "    - If you do not see anything on the screen wait for 10 seconds and then **reload the page.** \n",
    "\n",
    "4. You should now see the two Github action workflows running on the screen, similar to what you see in the below image. \n",
    "\n",
    "<br>\n",
    "<img src=\"./gh_actions.png\" alt=\"Github actions workflows\" width=\"900\" height=\"300\">\n",
    "\n",
    "- Look at the subheading of the actions and wait till the **Evaluate** one turns green. \n",
    "- It will likely take a few minutes to complete but once complete click the Evaluate action. \n",
    "- The **DEPLOY** action will likely fail as we have not had the time to run azd up in this workshop. \n",
    "\n",
    "\n",
    "### **Step 2: Examine evaluations**\n",
    "You now should see a table with some scores for **relevance, fluencey, coherence and groundedness** that looks like the image below:\n",
    "\n",
    "<img src=\"./evaluations.png\" alt=\"Github actions workflows\" width=\"900\" height=\"500\">\n",
    "\n",
    "Complete the following tasks...\n",
    "\n",
    "---\n",
    "<img src=\"todo.png\" alt=\"todo icon\" width=\"40\" height=\"40\"> **Tasks for you to do:**\n",
    "<br>\n",
    "\n",
    "The scores are from 1-5, with 5 being the highest mark. These are used to help us know how well the model is performing.\n",
    "\n",
    "1. Examine the evaluations and think of some ways you might be able to improve a score in the future. \n",
    "\n",
    "#### Congratulations you've succesfully automated evaluations and deployment🎉\n",
    "\n",
    "- [✅] Step 1: Set up the azd pipeline configuration\n",
    "- [✅] Step 2: Examine evaluations \n",
    "\n",
    "\n",
    "## Conclusion\n",
    "\n",
    "You have now completed the workshop! \n",
    "\n",
    "Today you learnt to:\n",
    "1. [Understanding agents and prompt engineering with Prompty.](#1-understanding-agents-and-prompt-engineering-with-prompty)\n",
    "2. [Utilizing Prompty tracing for debugging and observability.](./workshop-2-tracing.ipynb)\n",
    "3. [Building and running Contoso Creative Writer.](./workshop-3-build.ipynb)\n",
    "4. [Setting up automated evaluations with GitHub Actions.](./workshop-4-ci-cd.ipynb)\n",
    "\n",
    "We hope you enjoyed this workshop! You can continue to explore the code at [https://aka.ms/aitour/wrk551](https://aka.ms/aitour/wrk551).\n",
    "<br>⭐Please star the [Github repo](https://aka.ms/aitour/wrk551) if you enjoyed this workshop⭐"
   ]
  }
 ],
 "metadata": {
  "kernelspec": {
   "display_name": "local",
   "language": "python",
   "name": "python3"
  },
  "language_info": {
   "codemirror_mode": {
    "name": "ipython",
    "version": 3
   },
   "file_extension": ".py",
   "mimetype": "text/x-python",
   "name": "python",
   "nbconvert_exporter": "python",
   "pygments_lexer": "ipython3",
   "version": "3.11.10"
  }
 },
 "nbformat": 4,
 "nbformat_minor": 2
}
