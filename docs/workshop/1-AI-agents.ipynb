{
 "cells": [
  {
   "cell_type": "markdown",
   "metadata": {},
   "source": [
    "In order for the researcher to generate even better queries it needs to know which search functions are avaialble to it. \n",
    "- Using the Prompty **tools** parameter an LLM can choose from functions described in a json file. \n",
    "- We can add information about which functions (sometimes called tools), the LLM has access to in a **functions.json** file. \n",
    "- Information from a json file is passed to prompty using the  *${file:functions.json}* format. \n",
    "\n",
    "In the case of the researcher we have a **functions.json** file with descriptions of 3 functions:\n",
    "- find_information\n",
    "- find_entities\n",
    "- find_news\n",
    "\n",
    " [functions.json](./researcher/functions.json)\n",
    "\n",
    "\n",
    "\n",
    "\n",
    "---\n",
    "\n",
    "> [researcher-2.prompty](researcher/researcher-2.prompty)\n",
    "\n"
   ]
  },
  {
   "cell_type": "code",
   "execution_count": 1,
   "metadata": {},
   "outputs": [
    {
     "data": {
      "text/plain": [
       "[ToolCall(id='call_mYW3sRKNQ9HSxDt67VIxzFIF', name='find_information', arguments='{\"query\":\"best educational material for learning Python programming\",\"market\":\"en-US\"}')]"
      ]
     },
     "execution_count": 1,
     "metadata": {},
     "output_type": "execute_result"
    }
   ],
   "source": [
    "import prompty\n",
    "import prompty.azure\n",
    "import os\n",
    "\n",
    "instructions = \"Can you find the best educational material for learning Python programming?\"\n",
    "prompty.execute(os.getcwd() + \"/researcher/researcher-2.prompty\", inputs={\"instructions\": instructions})"
   ]
  },
  {
   "cell_type": "markdown",
   "metadata": {},
   "source": [
    "\n",
    ">   - In [researcher-2.prompty](researcher/researcher-2.prompty) *${file:functions.json}* has been added to **tools** under the *parameters* section in the  file."
   ]
  },
  {
   "cell_type": "markdown",
   "metadata": {},
   "source": [
    "In the result from running the Prompty file we saw that the **find_information** function was selected. \n",
    "- The LLM used the **instruction** we gave it and the **descriptions** it saw in *functions.json* to pick which function to call.  \n",
    "- It also figured out which parameter values should be passed to the function. \n",
    "\n",
    "We can influence which function is called by being more specific about the instructions we give the LLM.\n",
    "\n",
    "\n",
    "\n",
    "---"
   ]
  },
  {
   "cell_type": "code",
   "execution_count": 2,
   "metadata": {},
   "outputs": [
    {
     "data": {
      "text/plain": [
       "[ToolCall(id='call_qeiRb5pcV69xezmJWFVHrWRD', name='find_entities', arguments='{\"query\":\"inventor of Python programming language\",\"market\":\"en-US\"}')]"
      ]
     },
     "execution_count": 2,
     "metadata": {},
     "output_type": "execute_result"
    }
   ],
   "source": [
    "instructions = \"Who is the person who invented the Python programming language?\"\n",
    "prompty.execute(os.getcwd() + \"/researcher/researcher-2.prompty\", inputs={\"instructions\": instructions})"
   ]
  },
  {
   "cell_type": "markdown",
   "metadata": {},
   "source": [
    "> **find_entities** function was selected by the LLM based on:\n",
    "> 1. **The description of the function** in [functions.json](./researcher/functions.json) \n",
    "> 2. The **instructions** we passed to it. \n",
    "\n",
    "<br>"
   ]
  },
  {
   "cell_type": "code",
   "execution_count": 4,
   "metadata": {},
   "outputs": [
    {
     "data": {
      "text/plain": [
       "[ToolCall(id='call_xiy5fyI0SHvMidri5ADUTQT0', name='find_news', arguments='{\"query\":\"Telus\",\"market\":\"en-US\"}')]"
      ]
     },
     "execution_count": 4,
     "metadata": {},
     "output_type": "execute_result"
    }
   ],
   "source": [
    "instructions = \"Find the latest news about Telus?\"\n",
    "prompty.execute(os.getcwd() + \"/researcher/researcher-2.prompty\", inputs={\"instructions\": instructions})"
   ]
  },
  {
   "cell_type": "markdown",
   "metadata": {},
   "source": [
    "**find_news function description:**\n",
    "<details>\n",
    "\n",
    "```json\n",
    "{\n",
    "    \"type\": \"function\",\n",
    "    \"function\": {\n",
    "      \"name\": \"find_news\",\n",
    "      \"description\": \"Finds news on the web given a query. This function uses the Bing Search API to find news on the web given a query. The response includes the most relevant news articles from the web and should be used if you're looking for news.\",\n",
    "      \"parameters\": {\n",
    "        \"type\": \"object\",\n",
    "        \"properties\": {\n",
    "          \"query\": {\n",
    "            \"type\": \"string\",\n",
    "            \"description\": \"An optimal search query to find news on the web using the Bing Search API\"\n",
    "          },\n",
    "          \"market\": {\n",
    "            \"type\": \"string\",\n",
    "            \"description\": \"The market to search in, e.g. en-US - it should match the language of the query\"\n",
    "          }\n",
    "        },\n",
    "        \"required\": [\n",
    "          \"query\"\n",
    "        ]\n",
    "      }\n",
    "    }\n",
    "  }\n",
    "  ```\n",
    "  <details>"
   ]
  },
  {
   "cell_type": "markdown",
   "metadata": {},
   "source": [
    "\n",
    "\n",
    "When we execute a Prompty file that has a **functions.json** file added to the **tools** parameter, the LLM returns a **list of Tool Calls** (also known as function calls) that look like this:\n",
    "\n",
    "```python\n",
    "[ToolCall(id='call_JtomZ3gCGHEa5MBxy6M3vypv', name='find_entities', arguments='{\"query\":\"inventor of Python programming language\",\"market\":\"en-US\"}')]\n",
    "```\n",
    "\n",
    "- The Python code for the functions described in *functions.json* can be found in the [researcher3.py](researcher/researcher3.py) file. \n",
    "- These functions will pass the query and market code to the Bing Search API.\n",
    "\n",
    "To put everything together the **research** function in [researcher3.py](researcher/researcher3.py) calls:\n",
    "-  an **execute_researcher_prompty** function that has the code we saw earlier to execute the prompty file \n",
    "- an **execute_function_calls** function that runs code to execute all the functions calls"
   ]
  },
  {
   "cell_type": "code",
   "execution_count": 5,
   "metadata": {},
   "outputs": [
    {
     "data": {
      "text/plain": [
       "[{'id': 'call_8g3sVeVc5eBJ89LTNld68P8w',\n",
       "  'function': 'find_information',\n",
       "  'arguments': {'query': 'best educational material for learning python programming',\n",
       "   'market': 'en-US'},\n",
       "  'result': {'pages': [{'url': 'https://hackr.io/blog/best-python-books-for-beginners-and-advanced-programmers',\n",
       "     'name': 'The 15 Best Python Books for Beginners & Advanced Coders [2024] - Hackr',\n",
       "     'description': 'In this article, we share the 15 best Python books in 2024. Whether you’re new to Python or an experienced Pythonista looking to boost your skills, we’ve included Python books for beginners and pros.. As the number 3 language among developers, python books can be the ideal way to learn Python for data science, web development, and more.. And sure, you can find answers to most coding ...'},\n",
       "    {'url': 'https://www.geeksforgeeks.org/best-python-books/',\n",
       "     'name': '9 Best Python Books For Beginners and Experts [2025]',\n",
       "     'description': 'Some programmers say that Python programming language serves as a great option as a first programming language to learn while others claim that it is a great last language to learn!!!! Whatever the case, it is indisputable that Python is an extremely popular language to learn. According to the TIOBE Index, Python is among the top three most popular programming languages in the world currently ...'},\n",
       "    {'url': 'https://realpython.com/best-python-books/',\n",
       "     'name': 'The Best Python Books',\n",
       "     'description': 'Python Tutorials → In-depth articles and video courses Learning Paths → Guided study plans for accelerated learning Quizzes → Check your learning progress Browse Topics → Focus on a specific area or skill level Community Chat → Learn with other Pythonistas Office Hours → Live Q&A calls with Python experts Podcast → Hear what’s new in the world of Python Books →'},\n",
       "    {'url': 'https://www.geeksforgeeks.org/top-10-python-books-for-beginners-and-advanced-programmers/',\n",
       "     'name': 'Top 10 Python Books for Beginners and Advanced Programmers',\n",
       "     'description': 'Initially, this book works on seeking the reader’s attention and then moves to every concept in detail, along with examples. Indeed, this is one of the best books to learn Python as a Beginner. The best thing is that it is also available in 26 languages. Author: C.H. Swaroop. 3. Head First Python – A Brain-Friendly Guide (2nd Edition)'},\n",
       "    {'url': 'https://www.guru99.com/best-python-books.html',\n",
       "     'name': '11 Best Python Books for Beginners (2024 Update) - Guru99',\n",
       "     'description': '9) Python Machine Learning: Machine Learning and Deep Learning with Python, scikit-learn, and TensorFlow 10) Natural Language Processing with Python: Analyzing Text with the Natural Language Toolkit 1) Python Crash Course, 2nd Edition: A Hands-On, Project-Based Introduction to Programming'}],\n",
       "   'related': ['best python for beginners',\n",
       "    'best python books for children',\n",
       "    'best python book examples',\n",
       "    'best python writing books',\n",
       "    'python for beginners',\n",
       "    'best python games for beginners',\n",
       "    'best books in python pdf',\n",
       "    'best real python books']}}]"
      ]
     },
     "execution_count": 5,
     "metadata": {},
     "output_type": "execute_result"
    }
   ],
   "source": [
    "import sys\n",
    "import os\n",
    "\n",
    "# Add the path to sys.path\n",
    "sys.path.append(os.path.abspath('../../docs/workshop/researcher'))\n",
    "\n",
    "from researcher3 import execute_researcher_prompty, execute_function_calls\n",
    "\n",
    "instructions = \"Can you find the best educational material for learning python programming?\"\n",
    "\n",
    "# Execute the researcher prompty to get a list of functions calls\n",
    "function_calls = execute_researcher_prompty(instructions=instructions)\n",
    "\n",
    "# Execute the function calls\n",
    "research = execute_function_calls(function_calls)\n",
    "research"
   ]
  }
 ],
 "metadata": {
  "kernelspec": {
   "display_name": "Python 3",
   "language": "python",
   "name": "python3"
  },
  "language_info": {
   "codemirror_mode": {
    "name": "ipython",
    "version": 3
   },
   "file_extension": ".py",
   "mimetype": "text/x-python",
   "name": "python",
   "nbconvert_exporter": "python",
   "pygments_lexer": "ipython3",
   "version": "3.11.10"
  }
 },
 "nbformat": 4,
 "nbformat_minor": 2
}
