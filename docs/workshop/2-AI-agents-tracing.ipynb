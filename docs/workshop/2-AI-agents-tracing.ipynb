{
 "cells": [
  {
   "cell_type": "markdown",
   "metadata": {},
   "source": [
    "\n",
    "When running Applications driven by LLMs, sometimes things don't go as expected! \n",
    "<br>It's important to have a way to debug your LLM workflow so you can see where things are working. \n",
    "<br>Tracing helps to visualize the execution of the prompts and clearly see what inputs are being passed to the LLM. \n",
    "\n",
    "Run and debug a custom social media agent\n",
    "\n",
    "<img src=\"../../images/socialmediaagent.png\" alt=\"social media agent\" width=\"600\" height=\"350\">\n",
    "\n",
    "<br> We will be building a social media agent that can help us generate twitter threads! \n",
    "\n",
    " **[socialmedia](./socialmedia/social.prompty)** folder contains\n",
    "\n",
    "- a **social.py file:** Uses the **execute_social_media_writer_prompty** and **run_social_media_agent** functions to send the inputs and prompts to the LLM. \n",
    "<br>It also imports the research function from the researcher agent to let it access information from online.  \n",
    "\n",
    "- a **social.prompty file:** This contains the base prompt for the social media agent. \n",
    "<br>It has been instructed to generate a thread of **4 tweets**."
   ]
  },
  {
   "cell_type": "code",
   "execution_count": 2,
   "metadata": {},
   "outputs": [
    {
     "name": "stdout",
     "output_type": "stream",
     "text": [
      "🌟 AI Agents: The Future is Now! 🤖✨\n",
      "\n",
      "1/ What are AI agents? They are smart systems that make decisions and achieve goals with minimal human help! Think of them as your digital sidekicks, automating tasks and learning from feedback. 🦾💡 #AI #TechTuesday\n",
      "\n",
      "2/ By 2027, half of GenAI companies will use these AI agents, according to Deloitte! They’re set to revolutionize industries, from customer service to healthcare. Keep an eye out as these assistants take over routine tasks! 🏢🌍 #FutureTech #Innovation\n",
      "\n",
      "3/ AI agents differ from regular chatbots. They can perform complex, autonomous tasks beyond simple Q&A. Imagine Alexas and Siris on steroids, capable of reasoning and adapting. The possibilities are mind-blowing! 🤯🔍 #AIagents #TechTrends\n",
      "\n",
      "4/ Exciting, but also a bit scary? The World Economic Forum discusses the benefits & risks in their white paper. Navigating this new frontier requires understanding their impact. Buckle up, the AI journey is just getting started! 🚀🔥 #AInews #TechFuture\n",
      "\n",
      "Follow for more tech insights! 🧠💬💻\n"
     ]
    }
   ],
   "source": [
    "import sys\n",
    "import os\n",
    "\n",
    "# Add the path to sys.path\n",
    "sys.path.append(os.path.abspath('../../docs/workshop/socialmedia'))\n",
    "\n",
    "from social import run_social_media_agent\n",
    "\n",
    "research_instructions = \"Find information about AI agents\"\n",
    "social_media_instructions = \"Write a fun and engaging twitter thread about AI agents given the research.\"\n",
    "\n",
    "run_social_media_agent(instructions=research_instructions, social_media_instructions = social_media_instructions)"
   ]
  },
  {
   "cell_type": "markdown",
   "metadata": {},
   "source": [
    " **execute_social_media_writer_prompty.tracy** will have the trace"
   ]
  }
 ],
 "metadata": {
  "kernelspec": {
   "display_name": "Python 3",
   "language": "python",
   "name": "python3"
  },
  "language_info": {
   "codemirror_mode": {
    "name": "ipython",
    "version": 3
   },
   "file_extension": ".py",
   "mimetype": "text/x-python",
   "name": "python",
   "nbconvert_exporter": "python",
   "pygments_lexer": "ipython3",
   "version": "3.11.10"
  }
 },
 "nbformat": 4,
 "nbformat_minor": 2
}
